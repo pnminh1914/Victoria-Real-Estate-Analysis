{
 "cells": [
  {
   "cell_type": "code",
   "execution_count": 1,
   "source": [
    "import os\n",
    "from urllib.request import urlretrieve\n",
    "import zipfile"
   ],
   "outputs": [],
   "metadata": {}
  },
  {
   "cell_type": "code",
   "execution_count": 2,
   "source": [
    "# Dowload population data\n",
    "data_url = \"https://www.abs.gov.au/statistics/people/population/regional-population/2022-23/32180_ERP_2023_SA2_GDA2020.zip\"\n",
    "urlretrieve(data_url, \"../data/landing/population.zip\")"
   ],
   "outputs": [
    {
     "output_type": "execute_result",
     "data": {
      "text/plain": [
       "('../data/landing/population.zip', <http.client.HTTPMessage at 0x111379850>)"
      ]
     },
     "metadata": {},
     "execution_count": 2
    }
   ],
   "metadata": {}
  },
  {
   "cell_type": "code",
   "execution_count": 3,
   "source": [
    "# Extract the contents of the zip file\n",
    "with zipfile.ZipFile(\"../data/landing/population.zip\", 'r') as zip_ref:\n",
    "    zip_ref.extractall(\"../data/population/\")"
   ],
   "outputs": [],
   "metadata": {}
  },
  {
   "cell_type": "code",
   "execution_count": 4,
   "source": [
    "import geopandas as gpd\n",
    "\n",
    "# Load the GeoPackage file\n",
    "gdf = gpd.read_file(\"../data/population/32180_ERP_2023_SA2_GDA2020.gpkg\")\n",
    "\n",
    "# Check the first few rows of the dataset to understand its structure\n",
    "print(gdf.head(1))"
   ],
   "outputs": [
    {
     "output_type": "stream",
     "name": "stdout",
     "text": [
      "   State_code_2021  State_name_2021  SA2_code_2021 SA2_name_2021  \\\n",
      "0                1  New South Wales      101021007     Braidwood   \n",
      "\n",
      "   SA3_code_2021 SA3_name_2021  SA4_code_2021   SA4_name_2021 GCCSA_code_2021  \\\n",
      "0          10102    Queanbeyan            101  Capital Region           1RNSW   \n",
      "\n",
      "  GCCSA_name_2021  ...  Births_2022_23  Deaths_2022_23  \\\n",
      "0     Rest of NSW  ...              44              41   \n",
      "\n",
      "   Natural_increase_2022_23  Internal_arrivals_2022_23  \\\n",
      "0                         3                        316   \n",
      "\n",
      "   Internal_departures_2022_23  Net_internal_migration_2022_23  \\\n",
      "0                          301                              15   \n",
      "\n",
      "   Overseas_arrivals_2022_23  Overseas_departures_2022_23  \\\n",
      "0                         19                            7   \n",
      "\n",
      "   Net_overseas_migration_2022_23  \\\n",
      "0                              12   \n",
      "\n",
      "                                            geometry  \n",
      "0  MULTIPOLYGON (((149.58424 -35.44426, 149.58432...  \n",
      "\n",
      "[1 rows x 56 columns]\n"
     ]
    }
   ],
   "metadata": {}
  },
  {
   "cell_type": "code",
   "execution_count": 5,
   "source": [
    "gdf = gdf[gdf[\"State_name_2021\"] == \"Victoria\"]\n",
    "gdf[\"SA2_name_2021\"].unique()"
   ],
   "outputs": [
    {
     "output_type": "execute_result",
     "data": {
      "text/plain": [
       "array(['Alfredton', 'Ballarat', 'Buninyong', 'Delacombe', 'Smythes Creek',\n",
       "       'Wendouree - Miners Rest', 'Ballarat East - Warrenheip',\n",
       "       'Ballarat North - Invermay', 'Canadian - Mount Clear',\n",
       "       'Sebastopol - Redan', 'Bacchus Marsh Surrounds',\n",
       "       'Creswick - Clunes', 'Daylesford', 'Gordon (Vic.)', 'Avoca',\n",
       "       'Beaufort', 'Golden Plains - North', 'Maryborough (Vic.)',\n",
       "       'Maryborough Surrounds', 'Bendigo', 'California Gully - Eaglehawk',\n",
       "       'East Bendigo - Kennington', 'Flora Hill - Spring Gully',\n",
       "       'Kangaroo Flat - Golden Square', 'Maiden Gully', 'Strathfieldsaye',\n",
       "       'White Hills - Ascot', 'Bendigo Surrounds - South', 'Castlemaine',\n",
       "       'Castlemaine Surrounds', 'Heathcote', 'Kyneton', 'Woodend',\n",
       "       'Bendigo Surrounds - North', 'Loddon', 'Bannockburn',\n",
       "       'Golden Plains - South', 'Winchelsea', 'Belmont', 'Geelong',\n",
       "       'Geelong West - Hamlyn Heights', 'Highton', 'Lara', 'Leopold',\n",
       "       'Newcomb - Moolap', 'Newtown (Vic.)', 'North Geelong - Bell Park',\n",
       "       'Charlemont', 'Corio - Lovely Banks', 'Grovedale - Mount Duneed',\n",
       "       'Norlane', 'Clifton Springs', 'Lorne - Anglesea', 'Portarlington',\n",
       "       'Point Lonsdale - Queenscliff', 'Torquay',\n",
       "       'Barwon Heads - Armstrong Creek', 'Ocean Grove', 'Alexandra',\n",
       "       'Euroa', 'Kilmore - Broadford', 'Mansfield (Vic.)', 'Nagambie',\n",
       "       'Seymour', 'Seymour Surrounds', 'Upper Yarra Valley', 'Yea',\n",
       "       'Benalla', 'Benalla Surrounds', 'Rutherglen', 'Wangaratta',\n",
       "       'Wangaratta Surrounds', 'Beechworth', 'Bright - Mount Beauty',\n",
       "       'Chiltern - Indigo Valley', 'Myrtleford', 'Towong', 'West Wodonga',\n",
       "       'Yackandandah', 'Baranduda - Leneva', 'Wodonga', 'Drouin',\n",
       "       'Mount Baw Baw Region', 'Trafalgar (Vic.)', 'Warragul',\n",
       "       'Alps - East', 'Bairnsdale', 'Bruthen - Omeo', 'Lake King',\n",
       "       'Lakes Entrance', 'Orbost', 'Paynesville', 'Foster',\n",
       "       'French Island', 'Korumburra', 'Leongatha', 'Phillip Island',\n",
       "       'Wilsons Promontory', 'Wonthaggi - Inverloch', 'Churchill',\n",
       "       'Moe - Newborough', 'Morwell', 'Yallourn North - Glengarry',\n",
       "       'Traralgon - East', 'Traralgon - West', 'Alps - West',\n",
       "       'Longford - Loch Sport', 'Maffra', 'Rosedale', 'Sale', 'Yarram',\n",
       "       'Brunswick East', 'Brunswick West', 'Pascoe Vale South',\n",
       "       'Brunswick - North', 'Brunswick - South', 'Coburg - East',\n",
       "       'Coburg - West', 'Alphington - Fairfield', 'Thornbury',\n",
       "       'Northcote - East', 'Northcote - West', 'Ascot Vale', 'Flemington',\n",
       "       'Moonee Ponds', 'Essendon (West) - Aberfeldie', 'Essendon - East',\n",
       "       'Carlton', 'Docklands', 'East Melbourne', 'Flemington Racecourse',\n",
       "       'Kensington (Vic.)', 'Parkville', 'South Yarra - West',\n",
       "       'West Melbourne - Industrial', 'Melbourne CBD - East',\n",
       "       'Melbourne CBD - North', 'Melbourne CBD - West', 'North Melbourne',\n",
       "       'Royal Botanic Gardens Victoria', 'Southbank (West) - South Wharf',\n",
       "       'Southbank - East', 'West Melbourne - Residential', 'Albert Park',\n",
       "       'Elwood', 'Port Melbourne', 'St Kilda East',\n",
       "       'Port Melbourne Industrial', 'South Melbourne',\n",
       "       'St Kilda - Central', 'St Kilda - West', 'Armadale',\n",
       "       'Prahran - Windsor', 'Toorak', 'South Yarra - North',\n",
       "       'South Yarra - South', 'Abbotsford',\n",
       "       'Carlton North - Princes Hill', 'Collingwood', 'Fitzroy',\n",
       "       'Fitzroy North', 'Clifton Hill - Alphington',\n",
       "       'Richmond (South) - Cremorne', 'Richmond - North',\n",
       "       'Ashburton (Vic.)', 'Balwyn', 'Balwyn North', 'Camberwell',\n",
       "       'Glen Iris - East', 'Hawthorn East', 'Kew East',\n",
       "       'Surrey Hills (West) - Canterbury', 'Hawthorn - North',\n",
       "       'Hawthorn - South', 'Kew - South', 'Kew - West', 'Bulleen',\n",
       "       'Doncaster', 'Templestowe', 'Templestowe Lower',\n",
       "       'Doncaster East - North', 'Doncaster East - South', 'Blackburn',\n",
       "       'Blackburn South', 'Box Hill', 'Box Hill North', 'Burwood (Vic.)',\n",
       "       'Burwood East', 'Surrey Hills (East) - Mont Albert', 'Beaumaris',\n",
       "       'Brighton (Vic.)', 'Brighton East', 'Highett (West) - Cheltenham',\n",
       "       'Hampton', 'Sandringham - Black Rock', 'Bentleigh - McKinnon',\n",
       "       'Carnegie', 'Caulfield - North', 'Caulfield - South',\n",
       "       'Elsternwick', 'Hughesdale', 'Murrumbeena', 'Ormond - Glen Huntly',\n",
       "       'Bentleigh East - North', 'Bentleigh East - South',\n",
       "       'Aspendale Gardens - Waterways', 'Braeside',\n",
       "       'Carrum - Patterson Lakes', 'Chelsea - Bonbeach',\n",
       "       'Chelsea Heights', 'Highett (East) - Cheltenham',\n",
       "       'Edithvale - Aspendale', 'Mentone', 'Moorabbin - Heatherton',\n",
       "       'Moorabbin Airport', 'Mordialloc - Parkdale',\n",
       "       'Malvern - Glen Iris', 'Malvern East', 'Bundoora - East',\n",
       "       'Greensborough', 'Heidelberg - Rosanna', 'Heidelberg West',\n",
       "       'Ivanhoe', 'Ivanhoe East - Eaglemont', 'Montmorency - Briar Hill',\n",
       "       'Viewbank - Yallambie', 'Watsonia', 'Kingsbury', 'Preston - East',\n",
       "       'Preston - West', 'Reservoir - North East',\n",
       "       'Reservoir - North West', 'Reservoir - South East',\n",
       "       'Reservoir - South West', 'Eltham', 'Hurstbridge', 'Kinglake',\n",
       "       'Panton Hill - St Andrews', 'Plenty - Yarrambat',\n",
       "       'Research - North Warrandyte', 'Wattle Glen - Diamond Creek',\n",
       "       'Bundoora - North', 'Bundoora - West', 'Mill Park - North',\n",
       "       'Mill Park - South', 'Thomastown', 'Wallan', 'Whittlesea',\n",
       "       'Epping - East', 'Epping - South', 'Epping (Vic.) - West',\n",
       "       'South Morang - North', 'South Morang - South', 'Wollert',\n",
       "       'Doreen - North', 'Doreen - South', 'Lalor - East', 'Lalor - West',\n",
       "       'Mernda - North', 'Mernda - South', 'Airport West',\n",
       "       'Essendon Airport', 'Keilor', 'Niddrie - Essendon West',\n",
       "       'Strathmore', 'Avondale Heights', 'Keilor East', 'Gisborne',\n",
       "       'Macedon', 'Riddells Creek', 'Romsey', 'Coburg North', 'Fawkner',\n",
       "       'Gowanbrae', 'Hadfield', 'Glenroy - East', 'Glenroy - West',\n",
       "       'Oak Park', 'Pascoe Vale', 'Sunbury', 'Diggers Rest',\n",
       "       'Sunbury - South', 'Sunbury - West', 'Broadmeadows',\n",
       "       'Campbellfield - Coolaroo', 'Gladstone Park - Westmeadows',\n",
       "       'Greenvale - Bulla', 'Meadow Heights', 'Melbourne Airport',\n",
       "       'Tullamarine', 'Craigieburn - Central', 'Craigieburn - North',\n",
       "       'Craigieburn - South', 'Mickleham - Yuroke',\n",
       "       'Craigieburn - North West', 'Craigieburn - West',\n",
       "       'Roxburgh Park (South) - Somerton', 'Roxburgh Park - North',\n",
       "       'Bayswater', 'Knoxfield - Scoresby', 'Lysterfield',\n",
       "       'Rowville - Central', 'Rowville - North', 'Rowville - South',\n",
       "       'Wantirna', 'Wantirna South', 'Boronia', 'Ferntree Gully - North',\n",
       "       'Ferntree Gully (South) - Upper Ferntree Gully', 'The Basin',\n",
       "       'Donvale - Park Orchards', 'Warrandyte - Wonga Park',\n",
       "       'Bayswater North', 'Croydon Hills - Warranwood', 'Ringwood',\n",
       "       'Ringwood East', 'Ringwood North', 'Croydon - East',\n",
       "       'Croydon - West', 'Croydon South', 'Forest Hill', 'Mitcham (Vic.)',\n",
       "       'Nunawading', 'Vermont', 'Vermont South', 'Belgrave - Selby',\n",
       "       'Chirnside Park', 'Healesville - Yarra Glen', 'Kilsyth',\n",
       "       'Lilydale - Coldstream', 'Monbulk - Silvan', 'Montrose',\n",
       "       'Mooroolbark', 'Mount Dandenong - Olinda', 'Mount Evelyn',\n",
       "       'Upwey - Tecoma', 'Wandin - Seville', 'Yarra Valley',\n",
       "       'Emerald - Cockatoo', 'Beaconsfield - Officer',\n",
       "       'Bunyip - Garfield', 'Koo Wee Rup', 'Pakenham - North East',\n",
       "       'Pakenham - North West', 'Pakenham - South East',\n",
       "       'Pakenham - South West', 'Berwick - North', 'Doveton', 'Hallam',\n",
       "       'Narre Warren North', 'Endeavour Hills - North',\n",
       "       'Endeavour Hills - South', 'Narre Warren - North East',\n",
       "       'Narre Warren - South West', 'Berwick - South East',\n",
       "       'Berwick - South West', 'Cranbourne', 'Cranbourne South',\n",
       "       'Cranbourne West', 'Lynbrook - Lyndhurst', 'Pearcedale - Tooradin',\n",
       "       'Narre Warren South - East', 'Narre Warren South - West',\n",
       "       'Clyde North - North', 'Clyde North - South',\n",
       "       'Cranbourne East - North', 'Cranbourne East - South',\n",
       "       'Cranbourne North - East', 'Cranbourne North - West',\n",
       "       'Hampton Park - East', 'Hampton Park - West',\n",
       "       'Clarinda - Oakleigh South', 'Clayton South', 'Dandenong North',\n",
       "       'Dingley Village', 'Noble Park North', 'Springvale',\n",
       "       'Springvale South', 'Noble Park - East', 'Noble Park - West',\n",
       "       'Dandenong - North', 'Dandenong - South', 'Keysborough - North',\n",
       "       'Keysborough - South', 'Ashwood - Chadstone',\n",
       "       'Glen Waverley - East', 'Glen Waverley - West',\n",
       "       'Mount Waverley - North', 'Mount Waverley - South', 'Mulgrave',\n",
       "       'Oakleigh - Huntingdale', 'Wheelers Hill',\n",
       "       'Clayton (North) - Notting Hill', 'Clayton - Central',\n",
       "       'Ardeer - Albion', 'Cairnlea', 'Delahey', 'Keilor Downs',\n",
       "       'Kings Park (Vic.)', 'St Albans - North', 'St Albans - South',\n",
       "       'Sunshine', 'Sunshine North', 'Sunshine West', 'Sydenham',\n",
       "       'Taylors Lakes', 'Deer Park', 'Derrimut', 'Altona',\n",
       "       'Altona Meadows', 'Altona North', 'Newport', 'Seabrook',\n",
       "       'Williamstown', 'Braybrook', 'Footscray', 'Maribyrnong',\n",
       "       'Seddon - Kingsville', 'West Footscray - Tottenham', 'Yarraville',\n",
       "       'Bacchus Marsh', 'Melton West', 'Rockbank - Mount Cottrell',\n",
       "       'Taylors Hill', 'Burnside', 'Burnside Heights', 'Caroline Springs',\n",
       "       'Brookfield', 'Cobblebank - Strathtulloh', 'Eynesbury - Exford',\n",
       "       'Fraser Rise - Plumpton', 'Hillside', 'Kurunjang - Toolern Vale',\n",
       "       'Melton', 'Melton South - Weir Views', 'Hoppers Crossing - North',\n",
       "       'Hoppers Crossing - South', 'Laverton', 'Werribee - South',\n",
       "       'Point Cook - East', 'Point Cook - South', 'Werribee - East',\n",
       "       'Werribee - West', 'Manor Lakes - Quandong',\n",
       "       'Point Cook - North East', 'Point Cook - North West',\n",
       "       'Tarneit (West) - Mount Cottrell', 'Tarneit - Central',\n",
       "       'Tarneit - North', 'Tarneit - South', 'Truganina - North',\n",
       "       'Truganina - South East', 'Truganina - South West',\n",
       "       'Wyndham Vale - North', 'Wyndham Vale - South', 'Carrum Downs',\n",
       "       'Frankston', 'Frankston North', 'Frankston South', 'Langwarrin',\n",
       "       'Seaford (Vic.)', 'Skye - Sandhurst', 'Dromana', 'Flinders',\n",
       "       'Hastings - Somers', 'Mount Eliza', 'Mount Martha', 'Point Nepean',\n",
       "       'Rosebud - McCrae', 'Somerville', 'Mornington - East',\n",
       "       'Mornington - West', 'Ararat', 'Ararat Surrounds', 'Horsham',\n",
       "       'Horsham Surrounds', 'Nhill Region', 'St Arnaud', 'Stawell',\n",
       "       'West Wimmera', 'Yarriambiack', 'Irymple', 'Merbein',\n",
       "       'Mildura Surrounds', 'Red Cliffs', 'Mildura - North',\n",
       "       'Mildura - South', 'Buloke', 'Gannawarra', 'Kerang', 'Robinvale',\n",
       "       'Swan Hill', 'Swan Hill Surrounds', 'Echuca', 'Kyabram',\n",
       "       'Lockington - Gunbower', 'Rochester', 'Rushworth', 'Cobram',\n",
       "       'Moira', 'Numurkah', 'Yarrawonga', 'Mooroopna',\n",
       "       'Shepparton - North', 'Shepparton Surrounds - East',\n",
       "       'Shepparton Surrounds - West', 'Kialla', 'Shepparton - South East',\n",
       "       'Glenelg (Vic.)', 'Hamilton (Vic.)', 'Portland',\n",
       "       'Southern Grampians', 'Camperdown', 'Colac', 'Colac Surrounds',\n",
       "       'Corangamite - North', 'Corangamite - South', 'Otway',\n",
       "       'Moyne - East', 'Moyne - West', 'Warrnambool - North',\n",
       "       'Warrnambool - South'], dtype=object)"
      ]
     },
     "metadata": {},
     "execution_count": 5
    }
   ],
   "metadata": {}
  },
  {
   "cell_type": "code",
   "execution_count": 6,
   "source": [
    "gdf.columns"
   ],
   "outputs": [
    {
     "output_type": "execute_result",
     "data": {
      "text/plain": [
       "Index(['State_code_2021', 'State_name_2021', 'SA2_code_2021', 'SA2_name_2021',\n",
       "       'SA3_code_2021', 'SA3_name_2021', 'SA4_code_2021', 'SA4_name_2021',\n",
       "       'GCCSA_code_2021', 'GCCSA_name_2021', 'ERP_2001', 'ERP_2002',\n",
       "       'ERP_2003', 'ERP_2004', 'ERP_2005', 'ERP_2006', 'ERP_2007', 'ERP_2008',\n",
       "       'ERP_2009', 'ERP_2010', 'ERP_2011', 'ERP_2012', 'ERP_2013', 'ERP_2014',\n",
       "       'ERP_2015', 'ERP_2016', 'ERP_2017', 'ERP_2018', 'ERP_2019', 'ERP_2020',\n",
       "       'ERP_2021', 'ERP_2022', 'ERP_2023', 'ERP_change_number_2022_23',\n",
       "       'ERP_change_per_cent_2022_23', 'Area_km2',\n",
       "       'Pop_density_2023_people_per_km2', 'Births_2021_22', 'Deaths_2021_22',\n",
       "       'Natural_increase_2021_22', 'Internal_arrivals_2021_22',\n",
       "       'Internal_departures_2021_22', 'Net_internal_migration_2021_22',\n",
       "       'Overseas_arrivals_2021_22', 'Overseas_departures_2021_22',\n",
       "       'Net_overseas_migration_2021_22', 'Births_2022_23', 'Deaths_2022_23',\n",
       "       'Natural_increase_2022_23', 'Internal_arrivals_2022_23',\n",
       "       'Internal_departures_2022_23', 'Net_internal_migration_2022_23',\n",
       "       'Overseas_arrivals_2022_23', 'Overseas_departures_2022_23',\n",
       "       'Net_overseas_migration_2022_23', 'geometry'],\n",
       "      dtype='object')"
      ]
     },
     "metadata": {},
     "execution_count": 6
    }
   ],
   "metadata": {}
  },
  {
   "cell_type": "code",
   "execution_count": 7,
   "source": [
    "# Calculate net migration\n",
    "gdf[\"Net_migration_2021_22\"] = gdf[\"Net_overseas_migration_2021_22\"] + gdf[\"Net_internal_migration_2021_22\"]\n",
    "gdf[\"Net_migration_2022_23\"] = gdf[\"Net_overseas_migration_2022_23\"] + gdf[\"Net_internal_migration_2022_23\"]"
   ],
   "outputs": [],
   "metadata": {}
  },
  {
   "cell_type": "code",
   "execution_count": 8,
   "source": [
    "# Calculate ERP/km2 from 2001-2023\n",
    "for year in range(2001, 2024):\n",
    "    gdf[f\"ERP_per_km2_{year}\"] = gdf[f\"ERP_{year}\"] / gdf[\"Area_km2\"]"
   ],
   "outputs": [],
   "metadata": {}
  },
  {
   "cell_type": "code",
   "execution_count": 9,
   "source": [
    "# Calculate ERP increase each year from 2002-2023\n",
    "for year in range(2002, 2024):\n",
    "    erp_increase = gdf[f\"ERP_{year}\"] - gdf[f\"ERP_{year - 1}\"]\n",
    "    gdf[f\"ERP_increase_{year - 1}_{year - 2000}\"] = erp_increase"
   ],
   "outputs": [],
   "metadata": {}
  },
  {
   "cell_type": "code",
   "execution_count": 10,
   "source": [
    "gdf.columns"
   ],
   "outputs": [
    {
     "output_type": "execute_result",
     "data": {
      "text/plain": [
       "Index(['State_code_2021', 'State_name_2021', 'SA2_code_2021', 'SA2_name_2021',\n",
       "       'SA3_code_2021', 'SA3_name_2021', 'SA4_code_2021', 'SA4_name_2021',\n",
       "       'GCCSA_code_2021', 'GCCSA_name_2021',\n",
       "       ...\n",
       "       'ERP_increase_2013_14', 'ERP_increase_2014_15', 'ERP_increase_2015_16',\n",
       "       'ERP_increase_2016_17', 'ERP_increase_2017_18', 'ERP_increase_2018_19',\n",
       "       'ERP_increase_2019_20', 'ERP_increase_2020_21', 'ERP_increase_2021_22',\n",
       "       'ERP_increase_2022_23'],\n",
       "      dtype='object', length=103)"
      ]
     },
     "metadata": {},
     "execution_count": 10
    }
   ],
   "metadata": {}
  },
  {
   "cell_type": "code",
   "execution_count": 11,
   "source": [
    "import folium\n",
    "import branca.colormap as cm"
   ],
   "outputs": [],
   "metadata": {}
  },
  {
   "cell_type": "code",
   "execution_count": 49,
   "source": [
    "# Create directories to store plots\n",
    "os.makedirs(\"../plots/net_migrants/\", exist_ok=True)\n",
    "os.makedirs(\"../plots/erp/\", exist_ok=True)\n",
    "os.makedirs(\"../plots/area/\", exist_ok=True)\n",
    "os.makedirs(\"../plots/erp_per_km2/\", exist_ok=True)\n",
    "os.makedirs(\"../plots/erp_increase/\", exist_ok=True)"
   ],
   "outputs": [],
   "metadata": {}
  },
  {
   "cell_type": "code",
   "execution_count": 13,
   "source": [
    "def create_map(gdf, value_col, suburb_col, ouput_directory): \n",
    "    # Create a map centered on Victoria\n",
    "    m = folium.Map(location=[-37.4713, 144.7852], zoom_start=7)\n",
    "\n",
    "    # Create a color map using branca\n",
    "    colormap = cm.LinearColormap(\n",
    "        colors=['blue', 'white', 'yellow', 'orange', 'red'],\n",
    "        vmin=gdf[value_col].min(),\n",
    "        vmax=gdf[value_col].max(),\n",
    "        caption=value_col\n",
    "    )\n",
    "\n",
    "     # Define a function to style the features\n",
    "    def style_function(feature):\n",
    "        return {\n",
    "            'fillOpacity': 0.7,\n",
    "            'weight': 0.5,\n",
    "            'fillColor': colormap(feature['properties'][value_col]),\n",
    "            'color': 'black'\n",
    "        }\n",
    "\n",
    "    # Add the GeoDataFrame to the map with Folium\n",
    "    folium.GeoJson(\n",
    "        gdf.to_json(),\n",
    "        style_function=style_function,\n",
    "        tooltip=folium.GeoJsonTooltip(\n",
    "            fields=[suburb_col, value_col], \n",
    "            aliases=['Suburb Name', value_col]\n",
    "        )\n",
    "    ).add_to(m)\n",
    "\n",
    "    # Add the colormap legend to the map\n",
    "    colormap.add_to(m)\n",
    "\n",
    "    # Save and display the map\n",
    "    m.save(f\"{ouput_directory}/suburbs_{value_col.lower()}.html\")"
   ],
   "outputs": [],
   "metadata": {}
  },
  {
   "cell_type": "code",
   "execution_count": 50,
   "source": [
    "# Plot suburbs' net migrations from 2021-2023\n",
    "for col in ['Net_internal_migration_2021_22', 'Net_overseas_migration_2021_22', 'Net_migration_2021_22', \n",
    "'Net_internal_migration_2022_23', 'Net_overseas_migration_2022_23', 'Net_migration_2022_23']:\n",
    "    create_map(gdf, col, 'SA2_name_2021', '../plots/net_migrants')"
   ],
   "outputs": [],
   "metadata": {}
  },
  {
   "cell_type": "code",
   "execution_count": 51,
   "source": [
    "# Plot suburbs' ERP from 2001-2023    \n",
    "for col in ['ERP_2001', 'ERP_2002',\n",
    "       'ERP_2003', 'ERP_2004', 'ERP_2005', 'ERP_2006', 'ERP_2007', 'ERP_2008',\n",
    "       'ERP_2009', 'ERP_2010', 'ERP_2011', 'ERP_2012', 'ERP_2013', 'ERP_2014',\n",
    "       'ERP_2015', 'ERP_2016', 'ERP_2017', 'ERP_2018', 'ERP_2019', 'ERP_2020',\n",
    "       'ERP_2021', 'ERP_2022', 'ERP_2023']:\n",
    "    create_map(gdf, col, 'SA2_name_2021', '../plots/erp')"
   ],
   "outputs": [],
   "metadata": {}
  },
  {
   "cell_type": "code",
   "execution_count": 52,
   "source": [
    "# Plot suburbs' area\n",
    "create_map(gdf,'Area_km2', 'SA2_name_2021', '../plots/area')"
   ],
   "outputs": [],
   "metadata": {}
  },
  {
   "cell_type": "code",
   "execution_count": 53,
   "source": [
    "# Plot suburbs' ERP/km2 from 2001-2023\n",
    "for col in ['ERP_per_km2_2001', 'ERP_per_km2_2002',\n",
    "       'ERP_per_km2_2003', 'ERP_per_km2_2004', 'ERP_per_km2_2005',\n",
    "       'ERP_per_km2_2006', 'ERP_per_km2_2007', 'ERP_per_km2_2008',\n",
    "       'ERP_per_km2_2009', 'ERP_per_km2_2010', 'ERP_per_km2_2011',\n",
    "       'ERP_per_km2_2012', 'ERP_per_km2_2013', 'ERP_per_km2_2014',\n",
    "       'ERP_per_km2_2015', 'ERP_per_km2_2016', 'ERP_per_km2_2017',\n",
    "       'ERP_per_km2_2018', 'ERP_per_km2_2019', 'ERP_per_km2_2020',\n",
    "       'ERP_per_km2_2021', 'ERP_per_km2_2022', 'ERP_per_km2_2023']:\n",
    "    create_map(gdf, col, 'SA2_name_2021', '../plots/erp_per_km2')"
   ],
   "outputs": [],
   "metadata": {}
  },
  {
   "cell_type": "code",
   "execution_count": 54,
   "source": [
    "# Plot suburbs' ERP increase rate from 2002-2023\n",
    "for col in ['ERP_increase_2001_2',\n",
    "       'ERP_increase_2002_3', 'ERP_increase_2003_4', 'ERP_increase_2004_5',\n",
    "       'ERP_increase_2005_6', 'ERP_increase_2006_7', 'ERP_increase_2007_8',\n",
    "       'ERP_increase_2008_9', 'ERP_increase_2009_10', 'ERP_increase_2010_11',\n",
    "       'ERP_increase_2011_12', 'ERP_increase_2012_13', 'ERP_increase_2013_14',\n",
    "       'ERP_increase_2014_15', 'ERP_increase_2015_16', 'ERP_increase_2016_17',\n",
    "       'ERP_increase_2017_18', 'ERP_increase_2018_19', 'ERP_increase_2019_20',\n",
    "       'ERP_increase_2020_21', 'ERP_increase_2021_22', 'ERP_increase_2022_23']:\n",
    "    create_map(gdf, col, 'SA2_name_2021', '../plots/erp_increase')"
   ],
   "outputs": [],
   "metadata": {}
  },
  {
   "cell_type": "code",
   "execution_count": 19,
   "source": [
    "# Select relevant columns\n",
    "pop_df = gdf[['SA2_name_2021', 'Net_migration_2021_22',\n",
    "       'Net_migration_2022_23', 'ERP_per_km2_2001', 'ERP_per_km2_2002',\n",
    "       'ERP_per_km2_2003', 'ERP_per_km2_2004', 'ERP_per_km2_2005',\n",
    "       'ERP_per_km2_2006', 'ERP_per_km2_2007', 'ERP_per_km2_2008',\n",
    "       'ERP_per_km2_2009', 'ERP_per_km2_2010', 'ERP_per_km2_2011',\n",
    "       'ERP_per_km2_2012', 'ERP_per_km2_2013', 'ERP_per_km2_2014',\n",
    "       'ERP_per_km2_2015', 'ERP_per_km2_2016', 'ERP_per_km2_2017',\n",
    "       'ERP_per_km2_2018', 'ERP_per_km2_2019', 'ERP_per_km2_2020',\n",
    "       'ERP_per_km2_2021', 'ERP_per_km2_2022', 'ERP_per_km2_2023', 'ERP_increase_2001_2',\n",
    "       'ERP_increase_2002_3', 'ERP_increase_2003_4', 'ERP_increase_2004_5',\n",
    "       'ERP_increase_2005_6', 'ERP_increase_2006_7', 'ERP_increase_2007_8',\n",
    "       'ERP_increase_2008_9', 'ERP_increase_2009_10', 'ERP_increase_2010_11',\n",
    "       'ERP_increase_2011_12', 'ERP_increase_2012_13', 'ERP_increase_2013_14',\n",
    "       'ERP_increase_2014_15', 'ERP_increase_2015_16', 'ERP_increase_2016_17',\n",
    "       'ERP_increase_2017_18', 'ERP_increase_2018_19', 'ERP_increase_2019_20',\n",
    "       'ERP_increase_2020_21', 'ERP_increase_2021_22', 'ERP_increase_2022_23', 'geometry']]\n",
    "\n",
    "# Rename 'SA2_name_2021' column\n",
    "pop_df.rename(columns={'SA2_name_2021': 'SA2_Name'}, inplace=True)"
   ],
   "outputs": [
    {
     "output_type": "stream",
     "name": "stderr",
     "text": [
      "/var/folders/fl/t1q3j3rn0dg278fhg2bvg0dw0000gn/T/ipykernel_96689/397583671.py:20: SettingWithCopyWarning: \n",
      "A value is trying to be set on a copy of a slice from a DataFrame\n",
      "\n",
      "See the caveats in the documentation: https://pandas.pydata.org/pandas-docs/stable/user_guide/indexing.html#returning-a-view-versus-a-copy\n",
      "  pop_df.rename(columns={'SA2_name_2021': 'SA2_Name'}, inplace=True)\n"
     ]
    }
   ],
   "metadata": {}
  },
  {
   "cell_type": "code",
   "execution_count": 20,
   "source": [
    "# Download income data\n",
    "import pandas as pd\n",
    "income_df = pd.read_csv('../data/curated/suburbs_income.csv')"
   ],
   "outputs": [],
   "metadata": {}
  },
  {
   "cell_type": "code",
   "execution_count": 21,
   "source": [
    "# Merge income and population data\n",
    "population_income_df = pop_df.merge(income_df, on='SA2_Name', how='inner')"
   ],
   "outputs": [],
   "metadata": {}
  },
  {
   "cell_type": "code",
   "execution_count": 22,
   "source": [
    "population_income_df.columns"
   ],
   "outputs": [
    {
     "output_type": "execute_result",
     "data": {
      "text/plain": [
       "Index(['SA2_Name', 'Net_migration_2021_22', 'Net_migration_2022_23',\n",
       "       'ERP_per_km2_2001', 'ERP_per_km2_2002', 'ERP_per_km2_2003',\n",
       "       'ERP_per_km2_2004', 'ERP_per_km2_2005', 'ERP_per_km2_2006',\n",
       "       'ERP_per_km2_2007', 'ERP_per_km2_2008', 'ERP_per_km2_2009',\n",
       "       'ERP_per_km2_2010', 'ERP_per_km2_2011', 'ERP_per_km2_2012',\n",
       "       'ERP_per_km2_2013', 'ERP_per_km2_2014', 'ERP_per_km2_2015',\n",
       "       'ERP_per_km2_2016', 'ERP_per_km2_2017', 'ERP_per_km2_2018',\n",
       "       'ERP_per_km2_2019', 'ERP_per_km2_2020', 'ERP_per_km2_2021',\n",
       "       'ERP_per_km2_2022', 'ERP_per_km2_2023', 'ERP_increase_2001_2',\n",
       "       'ERP_increase_2002_3', 'ERP_increase_2003_4', 'ERP_increase_2004_5',\n",
       "       'ERP_increase_2005_6', 'ERP_increase_2006_7', 'ERP_increase_2007_8',\n",
       "       'ERP_increase_2008_9', 'ERP_increase_2009_10', 'ERP_increase_2010_11',\n",
       "       'ERP_increase_2011_12', 'ERP_increase_2012_13', 'ERP_increase_2013_14',\n",
       "       'ERP_increase_2014_15', 'ERP_increase_2015_16', 'ERP_increase_2016_17',\n",
       "       'ERP_increase_2017_18', 'ERP_increase_2018_19', 'ERP_increase_2019_20',\n",
       "       'ERP_increase_2020_21', 'ERP_increase_2021_22', 'ERP_increase_2022_23',\n",
       "       'geometry', 'NUMBER_OF_JOBS_PERSONS_2016-17',\n",
       "       'NUMBER_OF_JOBS_PERSONS_2017-18', 'NUMBER_OF_JOBS_PERSONS_2018-19',\n",
       "       'NUMBER_OF_JOBS_PERSONS_2019-20', 'NUMBER_OF_JOBS_PERSONS_2020-21',\n",
       "       'MEDIAN_INCOME_PERSONS_2016-17', 'MEDIAN_INCOME_PERSONS_2017-18',\n",
       "       'MEDIAN_INCOME_PERSONS_2018-19', 'MEDIAN_INCOME_PERSONS_2019-20',\n",
       "       'MEDIAN_INCOME_PERSONS_2020-21'],\n",
       "      dtype='object')"
      ]
     },
     "metadata": {},
     "execution_count": 22
    }
   ],
   "metadata": {}
  },
  {
   "cell_type": "code",
   "execution_count": 23,
   "source": [
    "# Create directories to store plots\n",
    "os.makedirs(\"../plots/job/\", exist_ok=True)\n",
    "os.makedirs(\"../plots/income/\", exist_ok=True)"
   ],
   "outputs": [],
   "metadata": {}
  },
  {
   "cell_type": "code",
   "execution_count": 24,
   "source": [
    "# Plot suburbs' number of jobs from 2016-2021\n",
    "for col in ['NUMBER_OF_JOBS_PERSONS_2016-17',\n",
    "       'NUMBER_OF_JOBS_PERSONS_2017-18', 'NUMBER_OF_JOBS_PERSONS_2018-19',\n",
    "       'NUMBER_OF_JOBS_PERSONS_2019-20', 'NUMBER_OF_JOBS_PERSONS_2020-21']:\n",
    "    create_map(population_income_df, col, 'SA2_Name', '../plots/job')"
   ],
   "outputs": [],
   "metadata": {}
  },
  {
   "cell_type": "code",
   "execution_count": 25,
   "source": [
    "# Plot suburbs' median income from 2016-2021\n",
    "for col in ['MEDIAN_INCOME_PERSONS_2016-17', 'MEDIAN_INCOME_PERSONS_2017-18',\n",
    "       'MEDIAN_INCOME_PERSONS_2018-19', 'MEDIAN_INCOME_PERSONS_2019-20',\n",
    "       'MEDIAN_INCOME_PERSONS_2020-21']:\n",
    "    create_map(population_income_df, col, 'SA2_Name', '../plots/income')"
   ],
   "outputs": [],
   "metadata": {}
  },
  {
   "cell_type": "code",
   "execution_count": 26,
   "source": [
    "# Calculate centroids of all SA2\n",
    "population_income_df['centroid'] = population_income_df.geometry.centroid"
   ],
   "outputs": [
    {
     "output_type": "stream",
     "name": "stderr",
     "text": [
      "/var/folders/fl/t1q3j3rn0dg278fhg2bvg0dw0000gn/T/ipykernel_96689/145768385.py:2: UserWarning: Geometry is in a geographic CRS. Results from 'centroid' are likely incorrect. Use 'GeoSeries.to_crs()' to re-project geometries to a projected CRS before this operation.\n",
      "\n",
      "  population_income_df['centroid'] = population_income_df.geometry.centroid\n"
     ]
    }
   ],
   "metadata": {}
  },
  {
   "cell_type": "code",
   "execution_count": 27,
   "source": [
    "# Download houses data\n",
    "houses_df = pd.read_csv('../data/curated/houses_with_closest_groceries.csv')"
   ],
   "outputs": [],
   "metadata": {}
  },
  {
   "cell_type": "code",
   "execution_count": 28,
   "source": [
    "import ast\n",
    "from shapely.geometry import Point\n",
    "# Function to convert geometry strings to Point objects\n",
    "def string_to_point(geometry_str):\n",
    "    # Convert the string to a dictionary\n",
    "    geometry_dict = ast.literal_eval(geometry_str)\n",
    "    # Extract latitude and longitude\n",
    "    latitude = geometry_dict['latitude']\n",
    "    longitude = geometry_dict['longitude']\n",
    "    # Create and return a Point object\n",
    "    return Point(longitude, latitude)"
   ],
   "outputs": [],
   "metadata": {}
  },
  {
   "cell_type": "code",
   "execution_count": 29,
   "source": [
    "# Apply the function to the 'geometry' column to convert it to Point geometries\n",
    "houses_df['geometry'] = houses_df['geometry'].apply(string_to_point)"
   ],
   "outputs": [],
   "metadata": {}
  },
  {
   "cell_type": "code",
   "execution_count": 30,
   "source": [
    "# Convert the DataFrame to a GeoDataFrame\n",
    "houses_df = gpd.GeoDataFrame(houses_df, geometry='geometry', crs=population_income_df.crs)"
   ],
   "outputs": [],
   "metadata": {}
  },
  {
   "cell_type": "code",
   "execution_count": 31,
   "source": [
    "houses_df.columns"
   ],
   "outputs": [
    {
     "output_type": "execute_result",
     "data": {
      "text/plain": [
       "Index(['address', 'parking', 'type', 'num_schools', 'cost', 'suburb', 'beds',\n",
       "       'baths', 'cost/(beds+baths)', 'geometry', 'closest_train_station_name',\n",
       "       'closest_train_station_distance_km', 'closest_tram_station_name',\n",
       "       'closest_tram_station_distance_km', 'closest_hospital_name',\n",
       "       'closest_hospital_distance_km', 'closest_grocery_name',\n",
       "       'closest_grocery_distance_km'],\n",
       "      dtype='object')"
      ]
     },
     "metadata": {},
     "execution_count": 31
    }
   ],
   "metadata": {}
  },
  {
   "cell_type": "code",
   "execution_count": 32,
   "source": [
    "# Handle Melbourne 3004 seperately\n",
    "special_houses = houses_df[houses_df['suburb'] == 'Melbourne']\n",
    "houses_df = houses_df[houses_df['suburb'] != 'Melbourne']"
   ],
   "outputs": [],
   "metadata": {}
  },
  {
   "cell_type": "code",
   "execution_count": 33,
   "source": [
    "# Custom merge based on substring matching (suburb_name in SA2_Name)\n",
    "def merge_substring(gdf1, sa2_series):\n",
    "    matches = []\n",
    "    for idx1, row1 in gdf1.iterrows():\n",
    "        match_found = False\n",
    "        for idx2, sa2_name in sa2_series.items():  # Iterate over Series\n",
    "            if row1['suburb'] in sa2_name:  # Substring matching\n",
    "                match_found = True\n",
    "                # Append the matched row, including the SA2 name\n",
    "                matches.append({**row1, 'SA2_Name': sa2_name})\n",
    "        if not match_found:\n",
    "            # Append the unmatched row with a None for 'SA2_Name'\n",
    "            matches.append({**row1, 'SA2_Name': None})\n",
    "\n",
    "    return gpd.GeoDataFrame(matches, geometry='geometry', crs=gdf1.crs)"
   ],
   "outputs": [],
   "metadata": {}
  },
  {
   "cell_type": "code",
   "execution_count": 34,
   "source": [
    "# Perform the substring merge\n",
    "matched_houses = merge_substring(houses_df, population_income_df['SA2_Name'])"
   ],
   "outputs": [],
   "metadata": {}
  },
  {
   "cell_type": "code",
   "execution_count": 35,
   "source": [
    "# Handle unmatched houses seperately\n",
    "unmatched_houses = matched_houses[matched_houses['SA2_Name'].isna()].drop('SA2_Name', axis=1)\n",
    "matched_houses = matched_houses[~matched_houses['SA2_Name'].isna()]"
   ],
   "outputs": [],
   "metadata": {}
  },
  {
   "cell_type": "code",
   "execution_count": 36,
   "source": [
    "# Combine with special houses from Melbourne 3004\n",
    "special_houses = pd.concat([special_houses, unmatched_houses], ignore_index=True)"
   ],
   "outputs": [],
   "metadata": {}
  },
  {
   "cell_type": "code",
   "execution_count": 37,
   "source": [
    "# Perform merge for matched houses to add the rest of the columns from population_income_df\n",
    "matched_houses_sjoin = matched_houses.merge(population_income_df.drop('geometry', axis=1), on='SA2_Name', how='inner')"
   ],
   "outputs": [],
   "metadata": {}
  },
  {
   "cell_type": "code",
   "execution_count": 38,
   "source": [
    "matched_houses_sjoin.columns"
   ],
   "outputs": [
    {
     "output_type": "execute_result",
     "data": {
      "text/plain": [
       "Index(['address', 'parking', 'type', 'num_schools', 'cost', 'suburb', 'beds',\n",
       "       'baths', 'cost/(beds+baths)', 'geometry', 'closest_train_station_name',\n",
       "       'closest_train_station_distance_km', 'closest_tram_station_name',\n",
       "       'closest_tram_station_distance_km', 'closest_hospital_name',\n",
       "       'closest_hospital_distance_km', 'closest_grocery_name',\n",
       "       'closest_grocery_distance_km', 'SA2_Name', 'Net_migration_2021_22',\n",
       "       'Net_migration_2022_23', 'ERP_per_km2_2001', 'ERP_per_km2_2002',\n",
       "       'ERP_per_km2_2003', 'ERP_per_km2_2004', 'ERP_per_km2_2005',\n",
       "       'ERP_per_km2_2006', 'ERP_per_km2_2007', 'ERP_per_km2_2008',\n",
       "       'ERP_per_km2_2009', 'ERP_per_km2_2010', 'ERP_per_km2_2011',\n",
       "       'ERP_per_km2_2012', 'ERP_per_km2_2013', 'ERP_per_km2_2014',\n",
       "       'ERP_per_km2_2015', 'ERP_per_km2_2016', 'ERP_per_km2_2017',\n",
       "       'ERP_per_km2_2018', 'ERP_per_km2_2019', 'ERP_per_km2_2020',\n",
       "       'ERP_per_km2_2021', 'ERP_per_km2_2022', 'ERP_per_km2_2023',\n",
       "       'ERP_increase_2001_2', 'ERP_increase_2002_3', 'ERP_increase_2003_4',\n",
       "       'ERP_increase_2004_5', 'ERP_increase_2005_6', 'ERP_increase_2006_7',\n",
       "       'ERP_increase_2007_8', 'ERP_increase_2008_9', 'ERP_increase_2009_10',\n",
       "       'ERP_increase_2010_11', 'ERP_increase_2011_12', 'ERP_increase_2012_13',\n",
       "       'ERP_increase_2013_14', 'ERP_increase_2014_15', 'ERP_increase_2015_16',\n",
       "       'ERP_increase_2016_17', 'ERP_increase_2017_18', 'ERP_increase_2018_19',\n",
       "       'ERP_increase_2019_20', 'ERP_increase_2020_21', 'ERP_increase_2021_22',\n",
       "       'ERP_increase_2022_23', 'NUMBER_OF_JOBS_PERSONS_2016-17',\n",
       "       'NUMBER_OF_JOBS_PERSONS_2017-18', 'NUMBER_OF_JOBS_PERSONS_2018-19',\n",
       "       'NUMBER_OF_JOBS_PERSONS_2019-20', 'NUMBER_OF_JOBS_PERSONS_2020-21',\n",
       "       'MEDIAN_INCOME_PERSONS_2016-17', 'MEDIAN_INCOME_PERSONS_2017-18',\n",
       "       'MEDIAN_INCOME_PERSONS_2018-19', 'MEDIAN_INCOME_PERSONS_2019-20',\n",
       "       'MEDIAN_INCOME_PERSONS_2020-21', 'centroid'],\n",
       "      dtype='object')"
      ]
     },
     "metadata": {},
     "execution_count": 38
    }
   ],
   "metadata": {}
  },
  {
   "cell_type": "code",
   "execution_count": 39,
   "source": [
    "# Merge special houses using spatial join\n",
    "special_houses_sjoin = gpd.sjoin(special_houses, population_income_df, how=\"left\", predicate=\"within\")"
   ],
   "outputs": [],
   "metadata": {}
  },
  {
   "cell_type": "code",
   "execution_count": 40,
   "source": [
    "special_houses_sjoin.columns"
   ],
   "outputs": [
    {
     "output_type": "execute_result",
     "data": {
      "text/plain": [
       "Index(['address', 'parking', 'type', 'num_schools', 'cost', 'suburb', 'beds',\n",
       "       'baths', 'cost/(beds+baths)', 'geometry', 'closest_train_station_name',\n",
       "       'closest_train_station_distance_km', 'closest_tram_station_name',\n",
       "       'closest_tram_station_distance_km', 'closest_hospital_name',\n",
       "       'closest_hospital_distance_km', 'closest_grocery_name',\n",
       "       'closest_grocery_distance_km', 'index_right', 'SA2_Name',\n",
       "       'Net_migration_2021_22', 'Net_migration_2022_23', 'ERP_per_km2_2001',\n",
       "       'ERP_per_km2_2002', 'ERP_per_km2_2003', 'ERP_per_km2_2004',\n",
       "       'ERP_per_km2_2005', 'ERP_per_km2_2006', 'ERP_per_km2_2007',\n",
       "       'ERP_per_km2_2008', 'ERP_per_km2_2009', 'ERP_per_km2_2010',\n",
       "       'ERP_per_km2_2011', 'ERP_per_km2_2012', 'ERP_per_km2_2013',\n",
       "       'ERP_per_km2_2014', 'ERP_per_km2_2015', 'ERP_per_km2_2016',\n",
       "       'ERP_per_km2_2017', 'ERP_per_km2_2018', 'ERP_per_km2_2019',\n",
       "       'ERP_per_km2_2020', 'ERP_per_km2_2021', 'ERP_per_km2_2022',\n",
       "       'ERP_per_km2_2023', 'ERP_increase_2001_2', 'ERP_increase_2002_3',\n",
       "       'ERP_increase_2003_4', 'ERP_increase_2004_5', 'ERP_increase_2005_6',\n",
       "       'ERP_increase_2006_7', 'ERP_increase_2007_8', 'ERP_increase_2008_9',\n",
       "       'ERP_increase_2009_10', 'ERP_increase_2010_11', 'ERP_increase_2011_12',\n",
       "       'ERP_increase_2012_13', 'ERP_increase_2013_14', 'ERP_increase_2014_15',\n",
       "       'ERP_increase_2015_16', 'ERP_increase_2016_17', 'ERP_increase_2017_18',\n",
       "       'ERP_increase_2018_19', 'ERP_increase_2019_20', 'ERP_increase_2020_21',\n",
       "       'ERP_increase_2021_22', 'ERP_increase_2022_23',\n",
       "       'NUMBER_OF_JOBS_PERSONS_2016-17', 'NUMBER_OF_JOBS_PERSONS_2017-18',\n",
       "       'NUMBER_OF_JOBS_PERSONS_2018-19', 'NUMBER_OF_JOBS_PERSONS_2019-20',\n",
       "       'NUMBER_OF_JOBS_PERSONS_2020-21', 'MEDIAN_INCOME_PERSONS_2016-17',\n",
       "       'MEDIAN_INCOME_PERSONS_2017-18', 'MEDIAN_INCOME_PERSONS_2018-19',\n",
       "       'MEDIAN_INCOME_PERSONS_2019-20', 'MEDIAN_INCOME_PERSONS_2020-21',\n",
       "       'centroid'],\n",
       "      dtype='object')"
      ]
     },
     "metadata": {},
     "execution_count": 40
    }
   ],
   "metadata": {}
  },
  {
   "cell_type": "code",
   "execution_count": 41,
   "source": [
    "# Concatenate all houses\n",
    "all_houses = pd.concat([matched_houses_sjoin, special_houses_sjoin.drop('index_right', axis=1)], ignore_index=True)"
   ],
   "outputs": [],
   "metadata": {}
  },
  {
   "cell_type": "code",
   "execution_count": 42,
   "source": [
    "all_houses.columns"
   ],
   "outputs": [
    {
     "output_type": "execute_result",
     "data": {
      "text/plain": [
       "Index(['address', 'parking', 'type', 'num_schools', 'cost', 'suburb', 'beds',\n",
       "       'baths', 'cost/(beds+baths)', 'geometry', 'closest_train_station_name',\n",
       "       'closest_train_station_distance_km', 'closest_tram_station_name',\n",
       "       'closest_tram_station_distance_km', 'closest_hospital_name',\n",
       "       'closest_hospital_distance_km', 'closest_grocery_name',\n",
       "       'closest_grocery_distance_km', 'SA2_Name', 'Net_migration_2021_22',\n",
       "       'Net_migration_2022_23', 'ERP_per_km2_2001', 'ERP_per_km2_2002',\n",
       "       'ERP_per_km2_2003', 'ERP_per_km2_2004', 'ERP_per_km2_2005',\n",
       "       'ERP_per_km2_2006', 'ERP_per_km2_2007', 'ERP_per_km2_2008',\n",
       "       'ERP_per_km2_2009', 'ERP_per_km2_2010', 'ERP_per_km2_2011',\n",
       "       'ERP_per_km2_2012', 'ERP_per_km2_2013', 'ERP_per_km2_2014',\n",
       "       'ERP_per_km2_2015', 'ERP_per_km2_2016', 'ERP_per_km2_2017',\n",
       "       'ERP_per_km2_2018', 'ERP_per_km2_2019', 'ERP_per_km2_2020',\n",
       "       'ERP_per_km2_2021', 'ERP_per_km2_2022', 'ERP_per_km2_2023',\n",
       "       'ERP_increase_2001_2', 'ERP_increase_2002_3', 'ERP_increase_2003_4',\n",
       "       'ERP_increase_2004_5', 'ERP_increase_2005_6', 'ERP_increase_2006_7',\n",
       "       'ERP_increase_2007_8', 'ERP_increase_2008_9', 'ERP_increase_2009_10',\n",
       "       'ERP_increase_2010_11', 'ERP_increase_2011_12', 'ERP_increase_2012_13',\n",
       "       'ERP_increase_2013_14', 'ERP_increase_2014_15', 'ERP_increase_2015_16',\n",
       "       'ERP_increase_2016_17', 'ERP_increase_2017_18', 'ERP_increase_2018_19',\n",
       "       'ERP_increase_2019_20', 'ERP_increase_2020_21', 'ERP_increase_2021_22',\n",
       "       'ERP_increase_2022_23', 'NUMBER_OF_JOBS_PERSONS_2016-17',\n",
       "       'NUMBER_OF_JOBS_PERSONS_2017-18', 'NUMBER_OF_JOBS_PERSONS_2018-19',\n",
       "       'NUMBER_OF_JOBS_PERSONS_2019-20', 'NUMBER_OF_JOBS_PERSONS_2020-21',\n",
       "       'MEDIAN_INCOME_PERSONS_2016-17', 'MEDIAN_INCOME_PERSONS_2017-18',\n",
       "       'MEDIAN_INCOME_PERSONS_2018-19', 'MEDIAN_INCOME_PERSONS_2019-20',\n",
       "       'MEDIAN_INCOME_PERSONS_2020-21', 'centroid'],\n",
       "      dtype='object')"
      ]
     },
     "metadata": {},
     "execution_count": 42
    }
   ],
   "metadata": {}
  },
  {
   "cell_type": "code",
   "execution_count": 43,
   "source": [
    "# Calculate the distance between the 'geometry' and the 'centroid' for each row\n",
    "all_houses['distance_to_centroid'] = all_houses.apply(lambda row: row['geometry'].distance(row['centroid']), axis=1)"
   ],
   "outputs": [],
   "metadata": {}
  },
  {
   "cell_type": "code",
   "execution_count": 44,
   "source": [
    "# Select the suburb with the minimum distance from its centroid to the house\n",
    "houses_final = all_houses.loc[all_houses.groupby('address')['distance_to_centroid'].idxmin()]"
   ],
   "outputs": [],
   "metadata": {}
  },
  {
   "cell_type": "code",
   "execution_count": 45,
   "source": [
    "houses_final.columns"
   ],
   "outputs": [
    {
     "output_type": "execute_result",
     "data": {
      "text/plain": [
       "Index(['address', 'parking', 'type', 'num_schools', 'cost', 'suburb', 'beds',\n",
       "       'baths', 'cost/(beds+baths)', 'geometry', 'closest_train_station_name',\n",
       "       'closest_train_station_distance_km', 'closest_tram_station_name',\n",
       "       'closest_tram_station_distance_km', 'closest_hospital_name',\n",
       "       'closest_hospital_distance_km', 'closest_grocery_name',\n",
       "       'closest_grocery_distance_km', 'SA2_Name', 'Net_migration_2021_22',\n",
       "       'Net_migration_2022_23', 'ERP_per_km2_2001', 'ERP_per_km2_2002',\n",
       "       'ERP_per_km2_2003', 'ERP_per_km2_2004', 'ERP_per_km2_2005',\n",
       "       'ERP_per_km2_2006', 'ERP_per_km2_2007', 'ERP_per_km2_2008',\n",
       "       'ERP_per_km2_2009', 'ERP_per_km2_2010', 'ERP_per_km2_2011',\n",
       "       'ERP_per_km2_2012', 'ERP_per_km2_2013', 'ERP_per_km2_2014',\n",
       "       'ERP_per_km2_2015', 'ERP_per_km2_2016', 'ERP_per_km2_2017',\n",
       "       'ERP_per_km2_2018', 'ERP_per_km2_2019', 'ERP_per_km2_2020',\n",
       "       'ERP_per_km2_2021', 'ERP_per_km2_2022', 'ERP_per_km2_2023',\n",
       "       'ERP_increase_2001_2', 'ERP_increase_2002_3', 'ERP_increase_2003_4',\n",
       "       'ERP_increase_2004_5', 'ERP_increase_2005_6', 'ERP_increase_2006_7',\n",
       "       'ERP_increase_2007_8', 'ERP_increase_2008_9', 'ERP_increase_2009_10',\n",
       "       'ERP_increase_2010_11', 'ERP_increase_2011_12', 'ERP_increase_2012_13',\n",
       "       'ERP_increase_2013_14', 'ERP_increase_2014_15', 'ERP_increase_2015_16',\n",
       "       'ERP_increase_2016_17', 'ERP_increase_2017_18', 'ERP_increase_2018_19',\n",
       "       'ERP_increase_2019_20', 'ERP_increase_2020_21', 'ERP_increase_2021_22',\n",
       "       'ERP_increase_2022_23', 'NUMBER_OF_JOBS_PERSONS_2016-17',\n",
       "       'NUMBER_OF_JOBS_PERSONS_2017-18', 'NUMBER_OF_JOBS_PERSONS_2018-19',\n",
       "       'NUMBER_OF_JOBS_PERSONS_2019-20', 'NUMBER_OF_JOBS_PERSONS_2020-21',\n",
       "       'MEDIAN_INCOME_PERSONS_2016-17', 'MEDIAN_INCOME_PERSONS_2017-18',\n",
       "       'MEDIAN_INCOME_PERSONS_2018-19', 'MEDIAN_INCOME_PERSONS_2019-20',\n",
       "       'MEDIAN_INCOME_PERSONS_2020-21', 'centroid', 'distance_to_centroid'],\n",
       "      dtype='object')"
      ]
     },
     "metadata": {},
     "execution_count": 45
    }
   ],
   "metadata": {}
  },
  {
   "cell_type": "code",
   "execution_count": 46,
   "source": [
    "houses_final[['suburb', 'SA2_Name', 'address']].to_csv('../data/curated/compare.csv', index=False)"
   ],
   "outputs": [],
   "metadata": {}
  },
  {
   "cell_type": "code",
   "execution_count": 47,
   "source": [
    "houses_final.to_csv('../data/curated/houses_all_properties.csv', index=False)"
   ],
   "outputs": [],
   "metadata": {}
  }
 ],
 "metadata": {
  "orig_nbformat": 4,
  "language_info": {
   "name": "python",
   "version": "3.11.7",
   "mimetype": "text/x-python",
   "codemirror_mode": {
    "name": "ipython",
    "version": 3
   },
   "pygments_lexer": "ipython3",
   "nbconvert_exporter": "python",
   "file_extension": ".py"
  },
  "kernelspec": {
   "name": "python3",
   "display_name": "Python 3.11.7 64-bit ('base': conda)"
  },
  "interpreter": {
   "hash": "dca0ade3e726a953b501b15e8e990130d2b7799f14cfd9f4271676035ebe5511"
  }
 },
 "nbformat": 4,
 "nbformat_minor": 2
}