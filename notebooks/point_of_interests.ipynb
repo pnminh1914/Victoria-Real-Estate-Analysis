{
 "cells": [
  {
   "cell_type": "markdown",
   "metadata": {},
   "source": [
    "This file used API key from openrouteservice to get coordinates for each properties in the rental dataset.\n",
    "PTV dataset, healthcare, and groceries dataset then merged with the rental dataset to create proximity features for each properties"
   ]
  },
  {
   "cell_type": "code",
   "execution_count": null,
   "metadata": {},
   "outputs": [],
   "source": [
    "import pandas as pd\n",
    "import geopandas as gpd\n",
    "import openrouteservice as ors\n",
    "import folium\n",
    "import sys\n",
    "import concurrent.futures\n",
    "from tqdm import tqdm\n",
    "from threading import Semaphore\n",
    "import json\n",
    "import folium\n",
    "import openrouteservice\n",
    "import json\n",
    "import time\n",
    "import openrouteservice\n",
    "import geopandas as gpd\n",
    "import folium\n",
    "from shapely.geometry import Point, Polygon\n",
    "from shapely.geometry import shape\n",
    "from geopy.distance import geodesic\n",
    "\n",
    "from shapely import wkt\n",
    "from openrouteservice.exceptions import ApiError\n",
    "sys.path.append('../scripts')\n",
    "from utilities import get_vic_subs_as_csv"
   ]
  },
  {
   "cell_type": "code",
   "execution_count": 2,
   "metadata": {},
   "outputs": [],
   "source": [
    "client = ors.Client(key='YOUR API KEY HERE')\n"
   ]
  },
  {
   "cell_type": "markdown",
   "metadata": {},
   "source": [
    "Code to get geometry of grocery stores"
   ]
  },
  {
   "cell_type": "code",
   "execution_count": 3,
   "metadata": {},
   "outputs": [
    {
     "name": "stdout",
     "output_type": "stream",
     "text": [
      "CSV file has been processed and saved as 'processed_file.csv'.\n"
     ]
    }
   ],
   "source": [
    "def convert_to_centroid(geometry):\n",
    "    geom = wkt.loads(geometry)\n",
    "    if isinstance(geom, Polygon):\n",
    "        return geom.centroid.wkt \n",
    "    return geometry  \n",
    "\n",
    "df = pd.read_csv('../data/raw/grocery_markets_victoria.csv')\n",
    "\n",
    "df['geometry'] = df['geometry'].apply(convert_to_centroid)\n",
    "\n",
    "df.to_csv('../data/raw/grocery_markets_victoria_processed.csv', index=False)\n",
    "\n",
    "print(\"CSV file has been processed and saved as 'processed_file.csv'.\")"
   ]
  },
  {
   "cell_type": "code",
   "execution_count": 4,
   "metadata": {},
   "outputs": [],
   "source": [
    "input_file = '../data/curated/preprocessed_current_rent.csv'\n",
    "output_file = '../data/curated/house_transport_part_1.csv'\n",
    "\n",
    "    "
   ]
  },
  {
   "cell_type": "markdown",
   "metadata": {},
   "source": [
    "Function for getting coordinates of each house based on its address"
   ]
  },
  {
   "cell_type": "code",
   "execution_count": 5,
   "metadata": {},
   "outputs": [],
   "source": [
    "RATE_LIMIT = 100  \n",
    "REQUEST_INTERVAL = 60 / RATE_LIMIT \n",
    "\n",
    "semaphore = Semaphore(3)  \n",
    "def get_coordinates(address):\n",
    "    try:\n",
    "        with semaphore:\n",
    "            response = client.pelias_search(address)\n",
    "            if response['features']:\n",
    "                coords = response['features'][0]['geometry']['coordinates']\n",
    "                return {'latitude': coords[1], 'longitude': coords[0]}\n",
    "            else:\n",
    "                return {'latitude': None, 'longitude': None}\n",
    "    except Exception as e:\n",
    "        print(f\"Error fetching coordinates for address '{address}': {e}\")\n",
    "        return (coords[1], coords[0])\n",
    "\n",
    "def worker(row):\n",
    "    address = row.get('address') \n",
    "    if address:\n",
    "        coords = get_coordinates(address)\n",
    "        return coords\n",
    "    return None"
   ]
  },
  {
   "cell_type": "code",
   "execution_count": 6,
   "metadata": {},
   "outputs": [],
   "source": [
    "\n",
    "df = pd.read_csv(input_file)\n",
    "\n",
    "df['geometry'] = None"
   ]
  },
  {
   "cell_type": "code",
   "execution_count": 7,
   "metadata": {},
   "outputs": [
    {
     "name": "stderr",
     "output_type": "stream",
     "text": [
      "Processing items:  10%|▉         | 484/4987 [04:38<23:04,  3.25it/s]  /Library/Frameworks/Python.framework/Versions/3.12/lib/python3.12/site-packages/openrouteservice/client.py:211: UserWarning: Rate limit exceeded. Retrying for the 1st time.\n",
      "  warnings.warn('Rate limit exceeded. Retrying for the {0}{1} time.'.format(retry_counter + 1,\n",
      "/Library/Frameworks/Python.framework/Versions/3.12/lib/python3.12/site-packages/openrouteservice/client.py:211: UserWarning: Rate limit exceeded. Retrying for the 2nd time.\n",
      "  warnings.warn('Rate limit exceeded. Retrying for the {0}{1} time.'.format(retry_counter + 1,\n",
      "Processing items:  10%|▉         | 486/4987 [04:42<1:05:33,  1.14it/s]/Library/Frameworks/Python.framework/Versions/3.12/lib/python3.12/site-packages/openrouteservice/client.py:211: UserWarning: Rate limit exceeded. Retrying for the 3rd time.\n",
      "  warnings.warn('Rate limit exceeded. Retrying for the {0}{1} time.'.format(retry_counter + 1,\n",
      "Processing items:  10%|█         | 503/4987 [04:53<1:11:22,  1.05it/s]/Library/Frameworks/Python.framework/Versions/3.12/lib/python3.12/site-packages/openrouteservice/client.py:211: UserWarning: Rate limit exceeded. Retrying for the 4th time.\n",
      "  warnings.warn('Rate limit exceeded. Retrying for the {0}{1} time.'.format(retry_counter + 1,\n",
      "Processing items:  43%|████▎     | 2124/4987 [22:46<1:19:41,  1.67s/it]/Library/Frameworks/Python.framework/Versions/3.12/lib/python3.12/site-packages/openrouteservice/client.py:211: UserWarning: Rate limit exceeded. Retrying for the 5th time.\n",
      "  warnings.warn('Rate limit exceeded. Retrying for the {0}{1} time.'.format(retry_counter + 1,\n",
      "Processing items:  43%|████▎     | 2126/4987 [22:51<1:28:10,  1.85s/it]/Library/Frameworks/Python.framework/Versions/3.12/lib/python3.12/site-packages/openrouteservice/client.py:211: UserWarning: Rate limit exceeded. Retrying for the 6th time.\n",
      "  warnings.warn('Rate limit exceeded. Retrying for the {0}{1} time.'.format(retry_counter + 1,\n",
      "Processing items:  88%|████████▊ | 4408/4987 [42:27<04:52,  1.98it/s]  /Library/Frameworks/Python.framework/Versions/3.12/lib/python3.12/site-packages/openrouteservice/client.py:211: UserWarning: Rate limit exceeded. Retrying for the 7th time.\n",
      "  warnings.warn('Rate limit exceeded. Retrying for the {0}{1} time.'.format(retry_counter + 1,\n",
      "Processing items:  89%|████████▉ | 4429/4987 [42:41<02:07,  4.37it/s]/Library/Frameworks/Python.framework/Versions/3.12/lib/python3.12/site-packages/openrouteservice/client.py:211: UserWarning: Rate limit exceeded. Retrying for the 8th time.\n",
      "  warnings.warn('Rate limit exceeded. Retrying for the {0}{1} time.'.format(retry_counter + 1,\n",
      "Processing items: 100%|██████████| 4987/4987 [48:15<00:00,  1.72it/s]  \n"
     ]
    }
   ],
   "source": [
    "max_threads = 3\n",
    "\n",
    "with concurrent.futures.ThreadPoolExecutor(max_threads) as executor:\n",
    "    futures = {executor.submit(worker, row): index for index, row in list(df.iterrows())[:5000]}\n",
    "\n",
    "    for future in tqdm(concurrent.futures.as_completed(futures), total=len(futures), desc=\"Processing items\"):\n",
    "        index = futures[future]\n",
    "        try:\n",
    "            df.at[index, 'geometry'] = future.result()\n",
    "        except Exception as e:\n",
    "            print(f\"An error occurred at index {index}: {e}\")\n"
   ]
  },
  {
   "cell_type": "code",
   "execution_count": 8,
   "metadata": {},
   "outputs": [
    {
     "name": "stdout",
     "output_type": "stream",
     "text": [
      "Updated data with coordinates saved to ../data/curated/house_transport_part_2.csv\n"
     ]
    }
   ],
   "source": [
    "df.to_csv(output_file, index=False)\n",
    "\n",
    "print(f\"Updated data with coordinates saved to {output_file}\")"
   ]
  },
  {
   "cell_type": "code",
   "execution_count": null,
   "metadata": {},
   "outputs": [],
   "source": [
    "client = ors.Client(key='YOUR API KEY HERE')\n"
   ]
  },
  {
   "cell_type": "code",
   "execution_count": null,
   "metadata": {},
   "outputs": [],
   "source": [
    "input_file = '../data/curated/preprocessed_current_rent.csv'\n",
    "output_file = '../data/curated/house_transport_part_2.csv'"
   ]
  },
  {
   "cell_type": "code",
   "execution_count": null,
   "metadata": {},
   "outputs": [],
   "source": [
    "max_threads = 3\n",
    "\n",
    "with concurrent.futures.ThreadPoolExecutor(max_threads) as executor:\n",
    "    futures = {executor.submit(worker, row): index for index, row in list(df.iterrows())[5000:]}\n",
    "\n",
    "    for future in tqdm(concurrent.futures.as_completed(futures), total=len(futures), desc=\"Processing items\"):\n",
    "        index = futures[future]\n",
    "        try:\n",
    "            df.at[index, 'geometry'] = future.result()\n",
    "        except Exception as e:\n",
    "            print(f\"An error occurred at index {index}: {e}\")"
   ]
  },
  {
   "cell_type": "code",
   "execution_count": null,
   "metadata": {},
   "outputs": [],
   "source": [
    "df.to_csv(output_file, index=False)\n",
    "\n",
    "print(f\"Updated data with coordinates saved to {output_file}\")"
   ]
  },
  {
   "cell_type": "code",
   "execution_count": 9,
   "metadata": {},
   "outputs": [
    {
     "name": "stdout",
     "output_type": "stream",
     "text": [
      "Merged file saved to: ../data/curated/merged_houses_with_complete_geometry.csv\n"
     ]
    }
   ],
   "source": [
    "housing_file_1 = '../data/curated/house_transport_part_2.csv'\n",
    "housing_file_2 = '../data/curated/house_transport_part_1.csv'\n",
    "df1 = pd.read_csv(housing_file_1)\n",
    "df2 = pd.read_csv(housing_file_2)\n",
    "\n",
    "df1['geometry'] = df1['geometry'].combine_first(df2['geometry'])\n",
    "merged_file = '../data/curated/merged_houses_with_complete_geometry.csv'\n",
    "df1.to_csv(merged_file, index=False)\n",
    "\n",
    "print(f\"Merged file saved to: {merged_file}\")"
   ]
  },
  {
   "cell_type": "code",
   "execution_count": 23,
   "metadata": {},
   "outputs": [],
   "source": [
    "houses_coordinates = []\n",
    "\n",
    "for index, row in df1.iterrows():\n",
    "    geometry = row['geometry']\n",
    "    \n",
    "    if isinstance(geometry, str):\n",
    "        try:\n",
    "            geometry_dict = eval(geometry)\n",
    "            \n",
    "            if 'latitude' in geometry_dict and 'longitude' in geometry_dict:\n",
    "                latitude = geometry_dict['latitude']\n",
    "                longitude = geometry_dict['longitude']\n",
    "                houses_coordinates.append({\n",
    "                    'address': row['address'],\n",
    "                    'coordinates': (latitude, longitude)\n",
    "                })\n",
    "            else:\n",
    "                print(f\"Missing latitude or longitude for house: {row['address']}, geometry: {geometry}\")\n",
    "        \n",
    "        except Exception as e:\n",
    "            print(f\"Error parsing geometry for house: {row['address']}, error: {e}\")\n",
    "    else:\n",
    "        print(f\"Invalid geometry format for house: {row['address']}, geometry: {geometry}\")\n",
    "\n",
    "# Now houses_coordinates contains all the valid house addresses and their coordinates\n"
   ]
  },
  {
   "cell_type": "code",
   "execution_count": null,
   "metadata": {},
   "outputs": [],
   "source": [
    "houses_coordinates"
   ]
  },
  {
   "cell_type": "markdown",
   "metadata": {},
   "source": [
    "Function to calculate closest stations"
   ]
  },
  {
   "cell_type": "code",
   "execution_count": 10,
   "metadata": {},
   "outputs": [],
   "source": [
    "gdf_regional = gpd.read_file(\"../data/PTV/\", layer='PTV_REGIONAL_TRAIN_STATION')\n",
    "gdf_regional = gdf_regional.to_crs(epsg=4326)\n",
    "\n",
    "gdf_metro = gpd.read_file(\"../data/PTV/\", layer='PTV_METRO_TRAIN_STATION')\n",
    "gdf_metro = gdf_metro.to_crs(epsg=4326)\n",
    "\n",
    "gdf_tram = gpd.read_file(\"../data/PTV_tram_bus/\", layer='PTV_METRO_TRAM_STOP')\n",
    "gdf_tram = gdf_tram.to_crs(epsg=4326)\n"
   ]
  },
  {
   "cell_type": "code",
   "execution_count": 11,
   "metadata": {},
   "outputs": [],
   "source": [
    "gdf_tram = gpd.read_file(\"../data/PTV_tram_bus/\", layer='PTV_METRO_TRAM_STOP')\n",
    "gdf_tram = gdf_tram.to_crs(epsg=4326)\n",
    "\n",
    "\n"
   ]
  },
  {
   "cell_type": "code",
   "execution_count": 12,
   "metadata": {},
   "outputs": [],
   "source": [
    "def prepare_station_data(gdf):\n",
    "    return gdf[['geometry', 'STOP_ID', 'STOP_NAME']].apply(\n",
    "        lambda row: ((row['geometry'].y, row['geometry'].x), row['STOP_ID'], row['STOP_NAME']), axis=1\n",
    "    ).tolist()\n",
    "    \n",
    "train_station_gdf = gpd.GeoDataFrame(pd.concat([gdf_metro, gdf_regional], ignore_index=True))\n",
    "tram_station_gdf = gpd.GeoDataFrame(gdf_tram)\n",
    "\n",
    "train_station_data = prepare_station_data(train_station_gdf)\n",
    "tram_station_data = prepare_station_data(tram_station_gdf)"
   ]
  },
  {
   "cell_type": "code",
   "execution_count": 13,
   "metadata": {},
   "outputs": [],
   "source": [
    "train_station_gdf = gpd.GeoDataFrame(pd.concat([gdf_metro, gdf_regional], ignore_index=True))\n",
    "tram_station_gdf = gpd.GeoDataFrame(gdf_tram)\n",
    "\n",
    "train_station_data = prepare_station_data(train_station_gdf)\n",
    "tram_station_data = prepare_station_data(tram_station_gdf)\n"
   ]
  },
  {
   "cell_type": "code",
   "execution_count": 14,
   "metadata": {},
   "outputs": [],
   "source": [
    "housing_file = '../data/curated/merged_houses_with_complete_geometry.csv'\n",
    "houses_df = pd.read_csv(housing_file)\n",
    "\n",
    "# Convert 'geometry' column to a usable format\n",
    "houses_df['geometry'] = houses_df['geometry'].apply(eval) \n"
   ]
  },
  {
   "cell_type": "code",
   "execution_count": 15,
   "metadata": {},
   "outputs": [
    {
     "data": {
      "text/html": [
       "<div>\n",
       "<style scoped>\n",
       "    .dataframe tbody tr th:only-of-type {\n",
       "        vertical-align: middle;\n",
       "    }\n",
       "\n",
       "    .dataframe tbody tr th {\n",
       "        vertical-align: top;\n",
       "    }\n",
       "\n",
       "    .dataframe thead th {\n",
       "        text-align: right;\n",
       "    }\n",
       "</style>\n",
       "<table border=\"1\" class=\"dataframe\">\n",
       "  <thead>\n",
       "    <tr style=\"text-align: right;\">\n",
       "      <th></th>\n",
       "      <th>address</th>\n",
       "      <th>parking</th>\n",
       "      <th>type</th>\n",
       "      <th>num_schools</th>\n",
       "      <th>cost</th>\n",
       "      <th>suburb</th>\n",
       "      <th>beds</th>\n",
       "      <th>baths</th>\n",
       "      <th>cost/(beds+baths)</th>\n",
       "      <th>geometry</th>\n",
       "    </tr>\n",
       "  </thead>\n",
       "  <tbody>\n",
       "    <tr>\n",
       "      <th>0</th>\n",
       "      <td>1302/1 Powlett Street, East Melbourne VIC 3002</td>\n",
       "      <td>2</td>\n",
       "      <td>Apartment / Unit / Flat</td>\n",
       "      <td>12</td>\n",
       "      <td>1795.0</td>\n",
       "      <td>East Melbourne</td>\n",
       "      <td>3</td>\n",
       "      <td>2</td>\n",
       "      <td>359.000000</td>\n",
       "      <td>{'latitude': -37.816107, 'longitude': 144.984947}</td>\n",
       "    </tr>\n",
       "    <tr>\n",
       "      <th>1</th>\n",
       "      <td>109/150 Clarendon Street, East Melbourne VIC 3002</td>\n",
       "      <td>2</td>\n",
       "      <td>Apartment / Unit / Flat</td>\n",
       "      <td>12</td>\n",
       "      <td>1595.0</td>\n",
       "      <td>East Melbourne</td>\n",
       "      <td>2</td>\n",
       "      <td>2</td>\n",
       "      <td>398.750000</td>\n",
       "      <td>{'latitude': -37.812236, 'longitude': 144.983539}</td>\n",
       "    </tr>\n",
       "    <tr>\n",
       "      <th>2</th>\n",
       "      <td>15 Berry Street, East Melbourne VIC 3002</td>\n",
       "      <td>2</td>\n",
       "      <td>House</td>\n",
       "      <td>13</td>\n",
       "      <td>2600.0</td>\n",
       "      <td>East Melbourne</td>\n",
       "      <td>4</td>\n",
       "      <td>3</td>\n",
       "      <td>371.428571</td>\n",
       "      <td>{'latitude': -37.818765, 'longitude': 144.988428}</td>\n",
       "    </tr>\n",
       "    <tr>\n",
       "      <th>3</th>\n",
       "      <td>8.15/280 Albert Street, East Melbourne VIC 3002</td>\n",
       "      <td>1</td>\n",
       "      <td>Apartment / Unit / Flat</td>\n",
       "      <td>13</td>\n",
       "      <td>1450.0</td>\n",
       "      <td>East Melbourne</td>\n",
       "      <td>2</td>\n",
       "      <td>2</td>\n",
       "      <td>362.500000</td>\n",
       "      <td>{'latitude': -37.809741, 'longitude': 144.981764}</td>\n",
       "    </tr>\n",
       "    <tr>\n",
       "      <th>4</th>\n",
       "      <td>21/322 Albert St, East Melbourne VIC 3002</td>\n",
       "      <td>1</td>\n",
       "      <td>Apartment / Unit / Flat</td>\n",
       "      <td>12</td>\n",
       "      <td>1100.0</td>\n",
       "      <td>East Melbourne</td>\n",
       "      <td>2</td>\n",
       "      <td>2</td>\n",
       "      <td>275.000000</td>\n",
       "      <td>{'latitude': -37.80984, 'longitude': 144.980274}</td>\n",
       "    </tr>\n",
       "    <tr>\n",
       "      <th>...</th>\n",
       "      <td>...</td>\n",
       "      <td>...</td>\n",
       "      <td>...</td>\n",
       "      <td>...</td>\n",
       "      <td>...</td>\n",
       "      <td>...</td>\n",
       "      <td>...</td>\n",
       "      <td>...</td>\n",
       "      <td>...</td>\n",
       "      <td>...</td>\n",
       "    </tr>\n",
       "    <tr>\n",
       "      <th>9982</th>\n",
       "      <td>13 Nunkeri Court, Clyde North VIC 3978</td>\n",
       "      <td>1</td>\n",
       "      <td>House</td>\n",
       "      <td>4</td>\n",
       "      <td>550.0</td>\n",
       "      <td>Clyde North</td>\n",
       "      <td>3</td>\n",
       "      <td>2</td>\n",
       "      <td>110.000000</td>\n",
       "      <td>{'latitude': -38.149821, 'longitude': 145.354085}</td>\n",
       "    </tr>\n",
       "    <tr>\n",
       "      <th>9983</th>\n",
       "      <td>22 Pleven Rise, Clyde North VIC 3978</td>\n",
       "      <td>2</td>\n",
       "      <td>House</td>\n",
       "      <td>4</td>\n",
       "      <td>520.0</td>\n",
       "      <td>Clyde North</td>\n",
       "      <td>4</td>\n",
       "      <td>2</td>\n",
       "      <td>86.666667</td>\n",
       "      <td>{'latitude': -38.149821, 'longitude': 145.354085}</td>\n",
       "    </tr>\n",
       "    <tr>\n",
       "      <th>9984</th>\n",
       "      <td>30 Haflinger Avenue, Clyde North VIC 3978</td>\n",
       "      <td>1</td>\n",
       "      <td>House</td>\n",
       "      <td>4</td>\n",
       "      <td>520.0</td>\n",
       "      <td>Clyde North</td>\n",
       "      <td>3</td>\n",
       "      <td>2</td>\n",
       "      <td>104.000000</td>\n",
       "      <td>{'latitude': -38.149821, 'longitude': 145.354085}</td>\n",
       "    </tr>\n",
       "    <tr>\n",
       "      <th>9985</th>\n",
       "      <td>16 Nokota Lane, Clyde North VIC 3978</td>\n",
       "      <td>0</td>\n",
       "      <td>House</td>\n",
       "      <td>4</td>\n",
       "      <td>490.0</td>\n",
       "      <td>Clyde North</td>\n",
       "      <td>3</td>\n",
       "      <td>2</td>\n",
       "      <td>98.000000</td>\n",
       "      <td>{'latitude': -38.149821, 'longitude': 145.354085}</td>\n",
       "    </tr>\n",
       "    <tr>\n",
       "      <th>9986</th>\n",
       "      <td>24 Plymouth Boulevard, Clyde North VIC 3978</td>\n",
       "      <td>1</td>\n",
       "      <td>House</td>\n",
       "      <td>4</td>\n",
       "      <td>490.0</td>\n",
       "      <td>Clyde North</td>\n",
       "      <td>2</td>\n",
       "      <td>1</td>\n",
       "      <td>163.333333</td>\n",
       "      <td>{'latitude': -38.149821, 'longitude': 145.354085}</td>\n",
       "    </tr>\n",
       "  </tbody>\n",
       "</table>\n",
       "<p>9987 rows × 10 columns</p>\n",
       "</div>"
      ],
      "text/plain": [
       "                                                address  parking  \\\n",
       "0        1302/1 Powlett Street, East Melbourne VIC 3002        2   \n",
       "1     109/150 Clarendon Street, East Melbourne VIC 3002        2   \n",
       "2              15 Berry Street, East Melbourne VIC 3002        2   \n",
       "3       8.15/280 Albert Street, East Melbourne VIC 3002        1   \n",
       "4             21/322 Albert St, East Melbourne VIC 3002        1   \n",
       "...                                                 ...      ...   \n",
       "9982             13 Nunkeri Court, Clyde North VIC 3978        1   \n",
       "9983               22 Pleven Rise, Clyde North VIC 3978        2   \n",
       "9984          30 Haflinger Avenue, Clyde North VIC 3978        1   \n",
       "9985               16 Nokota Lane, Clyde North VIC 3978        0   \n",
       "9986        24 Plymouth Boulevard, Clyde North VIC 3978        1   \n",
       "\n",
       "                         type  num_schools    cost          suburb  beds  \\\n",
       "0     Apartment / Unit / Flat           12  1795.0  East Melbourne     3   \n",
       "1     Apartment / Unit / Flat           12  1595.0  East Melbourne     2   \n",
       "2                       House           13  2600.0  East Melbourne     4   \n",
       "3     Apartment / Unit / Flat           13  1450.0  East Melbourne     2   \n",
       "4     Apartment / Unit / Flat           12  1100.0  East Melbourne     2   \n",
       "...                       ...          ...     ...             ...   ...   \n",
       "9982                    House            4   550.0     Clyde North     3   \n",
       "9983                    House            4   520.0     Clyde North     4   \n",
       "9984                    House            4   520.0     Clyde North     3   \n",
       "9985                    House            4   490.0     Clyde North     3   \n",
       "9986                    House            4   490.0     Clyde North     2   \n",
       "\n",
       "      baths  cost/(beds+baths)  \\\n",
       "0         2         359.000000   \n",
       "1         2         398.750000   \n",
       "2         3         371.428571   \n",
       "3         2         362.500000   \n",
       "4         2         275.000000   \n",
       "...     ...                ...   \n",
       "9982      2         110.000000   \n",
       "9983      2          86.666667   \n",
       "9984      2         104.000000   \n",
       "9985      2          98.000000   \n",
       "9986      1         163.333333   \n",
       "\n",
       "                                               geometry  \n",
       "0     {'latitude': -37.816107, 'longitude': 144.984947}  \n",
       "1     {'latitude': -37.812236, 'longitude': 144.983539}  \n",
       "2     {'latitude': -37.818765, 'longitude': 144.988428}  \n",
       "3     {'latitude': -37.809741, 'longitude': 144.981764}  \n",
       "4      {'latitude': -37.80984, 'longitude': 144.980274}  \n",
       "...                                                 ...  \n",
       "9982  {'latitude': -38.149821, 'longitude': 145.354085}  \n",
       "9983  {'latitude': -38.149821, 'longitude': 145.354085}  \n",
       "9984  {'latitude': -38.149821, 'longitude': 145.354085}  \n",
       "9985  {'latitude': -38.149821, 'longitude': 145.354085}  \n",
       "9986  {'latitude': -38.149821, 'longitude': 145.354085}  \n",
       "\n",
       "[9987 rows x 10 columns]"
      ]
     },
     "execution_count": 15,
     "metadata": {},
     "output_type": "execute_result"
    }
   ],
   "source": [
    "houses_df"
   ]
  },
  {
   "cell_type": "code",
   "execution_count": 16,
   "metadata": {},
   "outputs": [],
   "source": [
    "def find_closest_station(house_coords, stations):\n",
    "    closest_station = None\n",
    "    min_distance = float('inf')\n",
    "    closest_station_id = None\n",
    "    closest_station_name = None\n",
    "    \n",
    "    for (station_coords, station_id, station_name) in stations:\n",
    "        distance = geodesic(house_coords, station_coords).kilometers\n",
    "        if distance < min_distance:\n",
    "            min_distance = distance\n",
    "            closest_station = station_coords\n",
    "            closest_station_id = station_id\n",
    "            closest_station_name = station_name\n",
    "            \n",
    "    return closest_station, closest_station_id, closest_station_name, min_distance"
   ]
  },
  {
   "cell_type": "code",
   "execution_count": 17,
   "metadata": {},
   "outputs": [
    {
     "name": "stdout",
     "output_type": "stream",
     "text": [
      "Processed 1000 houses...\n",
      "Processed 2000 houses...\n",
      "Processed 3000 houses...\n",
      "Processed 4000 houses...\n",
      "Processed 5000 houses...\n",
      "Processed 6000 houses...\n",
      "Processed 7000 houses...\n",
      "Processed 8000 houses...\n",
      "Processed 9000 houses...\n",
      "Merged data with closest stations saved to: ../data/curated/houses_with_closest_stations.csv\n"
     ]
    }
   ],
   "source": [
    "for idx, row in houses_df.iterrows():\n",
    "    house_coords = (row['geometry']['latitude'], row['geometry']['longitude'])\n",
    "    \n",
    "    # Find the closest train station\n",
    "    closest_train_station_coords, closest_train_station_id, closest_train_station_name, train_distance = find_closest_station(house_coords, train_station_data)\n",
    "    \n",
    "    # Find the closest tram station\n",
    "    closest_tram_station_coords, closest_tram_station_id, closest_tram_station_name, tram_distance = find_closest_station(house_coords, tram_station_data)\n",
    "    \n",
    "    houses_df.at[idx, 'closest_train_station_name'] = closest_train_station_name\n",
    "    houses_df.at[idx, 'closest_train_station_distance_km'] = train_distance\n",
    "    houses_df.at[idx, 'closest_tram_station_name'] = closest_tram_station_name\n",
    "    houses_df.at[idx, 'closest_tram_station_distance_km'] = tram_distance\n",
    "    \n",
    "    # Print progress every 1000 houses\n",
    "    if (idx + 1) % 1000 == 0:\n",
    "        print(f\"Processed {idx + 1} houses...\")\n",
    "\n",
    "output_file = '../data/curated/houses_with_closest_stations.csv'\n",
    "houses_df.to_csv(output_file, index=False)\n",
    "\n",
    "print(f\"Merged data with closest stations saved to: {output_file}\")"
   ]
  },
  {
   "cell_type": "markdown",
   "metadata": {},
   "source": [
    "Function for calculating closest public hospitals"
   ]
  },
  {
   "cell_type": "code",
   "execution_count": 18,
   "metadata": {},
   "outputs": [],
   "source": [
    "def find_closest_location(house_coords, locations):\n",
    "    closest_location = None\n",
    "    min_distance = float('inf')\n",
    "    closest_location_id = None\n",
    "    closest_location_name = None\n",
    "    \n",
    "    for (location_coords, location_id, location_name) in locations:\n",
    "        distance = geodesic(house_coords, location_coords).kilometers\n",
    "        if distance < min_distance:\n",
    "            min_distance = distance\n",
    "            closest_location = location_coords\n",
    "            closest_location_id = location_id\n",
    "            closest_location_name = location_name\n",
    "            \n",
    "    return closest_location, closest_location_id, closest_location_name, min_distance"
   ]
  },
  {
   "cell_type": "code",
   "execution_count": 19,
   "metadata": {},
   "outputs": [],
   "source": [
    "hospital_file = '../data/raw/vic_hospitals_with_coordinates.csv'\n",
    "hospitals_df = pd.read_csv(hospital_file)\n",
    "\n",
    "hospitals_df['geometry'] = hospitals_df['geometry'].apply(eval)\n",
    "\n",
    "hospital_data = [((row['geometry'][1], row['geometry'][0]), row['Establishment ID'], row['Hospital name']) \n",
    "                 for idx, row in hospitals_df.iterrows()]"
   ]
  },
  {
   "cell_type": "code",
   "execution_count": 20,
   "metadata": {},
   "outputs": [
    {
     "name": "stdout",
     "output_type": "stream",
     "text": [
      "Processed 1000 houses...\n",
      "Processed 2000 houses...\n",
      "Processed 3000 houses...\n",
      "Processed 4000 houses...\n",
      "Processed 5000 houses...\n",
      "Processed 6000 houses...\n",
      "Processed 7000 houses...\n",
      "Processed 8000 houses...\n",
      "Processed 9000 houses...\n",
      "Data with closest hospitals saved to: ../data/curated/houses_with_closest_stations_and_hospital.csv\n"
     ]
    }
   ],
   "source": [
    "for idx, row in houses_df.iterrows():\n",
    "    house_coords = (row['geometry']['latitude'], row['geometry']['longitude'])\n",
    "    \n",
    "    # Find closest hospital\n",
    "    closest_hospital_coords, closest_hospital_id, closest_hospital_name, hospital_distance = find_closest_location(house_coords, hospital_data)\n",
    "    \n",
    "    # Update DataFrame with closest hospital data\n",
    "    houses_df.at[idx, 'closest_hospital_name'] = closest_hospital_name\n",
    "    houses_df.at[idx, 'closest_hospital_distance_km'] = hospital_distance\n",
    "    \n",
    "    # Print progress every 1000 houses\n",
    "    if (idx + 1) % 1000 == 0:\n",
    "        print(f\"Processed {idx + 1} houses...\")\n",
    "\n",
    "output_file = '../data/curated/houses_with_closest_stations_and_hospital.csv'\n",
    "houses_df.to_csv(output_file, index=False)\n",
    "\n",
    "print(f\"Data with closest hospitals saved to: {output_file}\")"
   ]
  },
  {
   "cell_type": "markdown",
   "metadata": {},
   "source": [
    "Function for getting nearest grocery store"
   ]
  },
  {
   "cell_type": "code",
   "execution_count": 21,
   "metadata": {},
   "outputs": [],
   "source": [
    "grocery_df = pd.read_csv('../data/raw/grocery_markets_victoria_processed.csv')\n"
   ]
  },
  {
   "cell_type": "code",
   "execution_count": 22,
   "metadata": {},
   "outputs": [],
   "source": [
    "from shapely.wkt import loads  \n",
    "def extract_coordinates(geometry):\n",
    "    point = loads(geometry)  \n",
    "    return point.y, point.x  \n"
   ]
  },
  {
   "cell_type": "code",
   "execution_count": 23,
   "metadata": {},
   "outputs": [],
   "source": [
    "grocery_df['latitude'], grocery_df['longitude'] = zip(*grocery_df['geometry'].apply(extract_coordinates))\n",
    "grocery_data = list(zip(grocery_df[['latitude', 'longitude']].apply(tuple, axis=1), grocery_df['name']))\n"
   ]
  },
  {
   "cell_type": "code",
   "execution_count": 24,
   "metadata": {},
   "outputs": [],
   "source": [
    "def find_closest_location(house_coords, locations):\n",
    "    closest_location_name = None\n",
    "    min_distance = float('inf')\n",
    "    \n",
    "    for location_coords, location_name in locations:\n",
    "        distance = geodesic(house_coords, location_coords).kilometers\n",
    "        if distance < min_distance:\n",
    "            min_distance = distance\n",
    "            closest_location_name = location_name\n",
    "            \n",
    "    return closest_location_name, min_distance"
   ]
  },
  {
   "cell_type": "code",
   "execution_count": 25,
   "metadata": {},
   "outputs": [
    {
     "name": "stdout",
     "output_type": "stream",
     "text": [
      "Processed 1000 houses...\n",
      "Processed 2000 houses...\n",
      "Processed 3000 houses...\n",
      "Processed 4000 houses...\n",
      "Processed 5000 houses...\n",
      "Processed 6000 houses...\n",
      "Processed 7000 houses...\n",
      "Processed 8000 houses...\n",
      "Processed 9000 houses...\n",
      "Data with closest groceries saved to: ../data/curated/houses_with_closest_groceries.csv\n"
     ]
    }
   ],
   "source": [
    "for idx, row in houses_df.iterrows():\n",
    "    house_coords = (row['geometry']['latitude'], row['geometry']['longitude'])\n",
    "    \n",
    "    closest_grocery_name, grocery_distance = find_closest_location(house_coords, grocery_data)\n",
    "    \n",
    "    houses_df.at[idx, 'closest_grocery_name'] = closest_grocery_name\n",
    "    houses_df.at[idx, 'closest_grocery_distance_km'] = grocery_distance\n",
    "    \n",
    "    # Print progress every 1000 houses\n",
    "    if (idx + 1) % 1000 == 0:\n",
    "        print(f\"Processed {idx + 1} houses...\")\n",
    "\n",
    "output_file = '../data/curated/houses_with_closest_groceries.csv'\n",
    "houses_df.to_csv(output_file, index=False)\n",
    "\n",
    "print(f\"Data with closest groceries saved to: {output_file}\")"
   ]
  },
  {
   "cell_type": "code",
   "execution_count": null,
   "metadata": {},
   "outputs": [],
   "source": []
  }
 ],
 "metadata": {
  "kernelspec": {
   "display_name": "Python 3",
   "language": "python",
   "name": "python3"
  },
  "language_info": {
   "codemirror_mode": {
    "name": "ipython",
    "version": 3
   },
   "file_extension": ".py",
   "mimetype": "text/x-python",
   "name": "python",
   "nbconvert_exporter": "python",
   "pygments_lexer": "ipython3",
   "version": "3.12.4"
  }
 },
 "nbformat": 4,
 "nbformat_minor": 2
}
